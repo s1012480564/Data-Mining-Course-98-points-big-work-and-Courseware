{
 "cells": [
  {
   "cell_type": "code",
   "execution_count": 1,
   "metadata": {},
   "outputs": [
    {
     "data": {
      "text/plain": [
       "<!DOCTYPE html>\n",
       "\n",
       "<html>\n",
       "<head>\n",
       "<meta content=\"text/html; charset=utf-8\" http-equiv=\"content_Type\"/>\n",
       "<title>恶魔高校DxD在线阅读txt下载_哔哩轻小说</title>\n",
       "<meta content=\"恶魔高校DxD在线阅读,恶魔高校DxDtxt下载,恶魔高校DxD轻小说,石踏一荣,富士见文库,哔哩轻小说\" name=\"keywords\"/>\n",
       "<meta content=\"恶魔高校DxD是石踏一荣所写的富士见文库轻小说作品,轻之小说文库免费提供恶魔高校DxD最新清爽干净的文字章节在线阅读和txt下载。\" name=\"description\"/>\n",
       "<meta content=\"pc\" name=\"applicable-device\"/>\n",
       "<meta content=\"format=html5; url=https://m.linovelib.com/novel/1.html\" name=\"mobile-agent\"/>\n",
       "<meta content=\"IE=edge,chrome=1\" http-equiv=\"X-UA-Compatible\"/>\n",
       "<meta content=\"webkit\" name=\"renderer\"/>\n",
       "<meta content=\"width=device-width, initial-scale=1.0\" name=\"viewport\"/>\n",
       "<meta content=\"no-transform\" http-equiv=\"Cache-Control\">\n",
       "<meta content=\"no-siteapp\" http-equiv=\"Cache-Control\"/>\n",
       "<meta content=\"novel\" property=\"og:type\"/>\n",
       "<meta content=\"恶魔高校DxD\" property=\"og:title\"/>\n",
       "<meta content=\"我，兵藤一诚是个年龄＝没女朋友经历的高二生。这样的我也交到女朋友了！抱歉了朋友，我要先你们一步踏上大人的阶梯！照理来说应该是这样才对，为什么我会被女朋友杀死？&lt;br /&gt;\n",
       "明明什么甜头都没尝到，这个世界还有天理..\" property=\"og:description\"/>\n",
       "<meta content=\"https://www.linovelib.com/files/article/image/0/1/1s.jpg\" property=\"og:image\"/>\n",
       "<meta content=\"富士见文库\" property=\"og:novel:category\"/>\n",
       "<meta content=\"石踏一荣\" property=\"og:novel:author\"/>\n",
       "<meta content=\"恶魔高校DxD\" property=\"og:novel:book_name\"/>\n",
       "<meta content=\"奇幻 冒险 后宫 \" property=\"og:novel:tags\"/>\n",
       "<meta content=\"https://www.linovelib.com/novel/1/catalog\" property=\"og:novel:read_url\"/>\n",
       "<meta content=\"https://www.linovelib.com/novel/1.html\" property=\"og:url\"/>\n",
       "<meta content=\"连载\" property=\"og:novel:status\"/>\n",
       "<meta content=\"https://www.linovelib.com/authorarticle/石踏一荣.html\" property=\"og:novel:author_link\"/>\n",
       "<meta content=\"2020-11-08 17:30:06\" property=\"og:novel:update_time\"/>\n",
       "<meta content=\"短篇集 DX.5 超级英雄的考验 后记\" property=\"og:novel:latest_chapter_name\"/>\n",
       "<meta content=\"https://www.linovelib.com/novel/1/138790.html\" property=\"og:novel:latest_chapter_url\"/>\n",
       "<link href=\"https://www.linovelib.com/themes/zhpc/css/basic.min.css\" rel=\"stylesheet\"/>\n",
       "<link href=\"https://www.linovelib.com/themes/zhpc/css/book.min.css\" rel=\"stylesheet\"/>\n",
       "</meta></head>\n",
       "<body scriptsign=\"book\">\n",
       "<script src=\"https://www.linovelib.com/themes/zhpc/js/core.js\" type=\"text/javascript\"></script><div class=\"head-fixed head-simple\"><div class=\"wrap\"><div class=\"head-top clearfix\"><div class=\"logo imgbox fl\"><a href=\"https://www.linovelib.com\" title=\"哔哩轻小说\"><img alt=\"哔哩轻小说\" src=\"/images/logo.png?v2\"/></a></div><form action=\"https://www.linovelib.com/s/\" method=\"post\" name=\"t_frmsearch\" target=\"_blank\"><div class=\"search-box\"><input class=\"search-text fl\" id=\"searchkey\" name=\"searchkey\" placeholder=\"请输入搜索关键词\" type=\"text\"/><input name=\"searchtype\" type=\"hidden\" value=\"all\"/><input class=\"search-btn fr\" type=\"submit\"/></div></form><div class=\"menu clearfix\"><a href=\"https://www.linovelib.com\">首页</a><div class=\"cate tabA\"><a href=\"##\">分类<em class=\"icon\"></em></a><div class=\"tabA-float cate-cell\"><ul><li><a href=\"/wenku/dengekibunko/1.html\">电击文库</a></li><li><a href=\"/wenku/fujimibunko/1.html\">富士见文库</a></li><li><a href=\"/wenku/kadokawabunko/1.html\">角川文库</a></li><li><a href=\"/wenku/emuefubunkojei/1.html\">MF文库J</a></li><li><a href=\"/wenku/famitsubunko/1.html\">Fami通文库</a></li><li><a href=\"/wenku/gagraphicbunko/1.html\">GA文库</a></li><li><a href=\"/wenku/hobbyjapanbunko/1.html\">HJ文库</a></li><li><a href=\"/wenku/ichijinsha/1.html\">一迅社</a></li><li><a href=\"/wenku/shueisha/1.html\">集英社</a></li><li><a href=\"/wenku/shogakukan/1.html\">小学馆</a></li><li><a href=\"/wenku/kodansha/1.html\">讲谈社</a></li><li><a href=\"/wenku/teenagebunko/1.html\">少女文库</a></li><li><a href=\"/wenku/other/1.html\">其他文库</a></li><li><a href=\"/wenku/lightnovel/1.html\">华文轻小说</a></li></ul></div></div><a href=\"https://www.linovelib.com/wenku/\">文库</a><a href=\"/top.html\">排行</a><a href=\"/topfull/allvisit/1.html\">全本</a></div><div class=\"right-wrap-login ud_userTox\"><div class=\"unlogin ud_unlogin clearfix\"><div class=\"login fl\"><a class=\"user_login\" href=\"https://www.linovelib.com/login.php\">登录</a></div><div class=\"regist fl\"><a class=\"user_register\" href=\"https://www.linovelib.com/register.php\">注册</a></div></div></div></div></div></div><div class=\"wrap\">\n",
       "<div class=\"h20-blank\"></div>\n",
       "<div class=\"crumb\">当前位置： <a href=\"https://www.linovelib.com\"> 首页 </a> &gt; <a href=\"/wenku/fujimibunko/1.html\"> 富士见文库 </a> &gt; 恶魔高校DxD</div>\n",
       "<div class=\"book-html-box clearfix\">\n",
       "<div class=\"book-main fl\">\n",
       "<div class=\"book-detail clearfix\">\n",
       "<div class=\"book-img fl\">\n",
       "<img alt=\"恶魔高校DxD\" height=\"264\" src=\"https://www.linovelib.com/files/article/image/0/1/1s.jpg\" width=\"200\"/>\n",
       "</div>\n",
       "<div class=\"book-info\">\n",
       "<h1 class=\"book-name\">恶魔高校DxD</h1>\n",
       "<div class=\"book-label\">\n",
       "<a class=\"state\">连载</a>\n",
       "<a class=\"label\" href=\"/wenku/fujimibunko/1.html\" target=\"_blank\">富士见文库</a><a class=\"label rg\">日本轻小说</a>\n",
       "<span>\n",
       "<a href=\"/tagarticle/%E5%A5%87%E5%B9%BB/1.html\" target=\"_blank\">奇幻</a>\n",
       "<a href=\"/tagarticle/%E5%86%92%E9%99%A9/1.html\" target=\"_blank\">冒险</a>\n",
       "<a href=\"/tagarticle/%E5%90%8E%E5%AE%AB/1.html\" target=\"_blank\">后宫</a>\n",
       "</span>\n",
       "</div>\n",
       "<div class=\"nums\"><span>字数 <i>419.1 万</i> </span> <span>总推荐 <i>221</i> </span> <span>总点击 <i>106211</i> </span> <span>周推荐 <i>0</i> </span></div>\n",
       "<div class=\"book-dec Jbook-dec hide\">\n",
       "<p>我，兵藤一诚是个年龄＝没女朋友经历的高二生。这样的我也交到女朋友了！抱歉了朋友，我要先你们一步踏上大人的阶梯！照理来说应该是这样才对，为什么我会被女朋友杀死？<br/>\n",
       "明明什么甜头都没尝到，这个世界还有天理吗？<br/>\n",
       "然而全校第一美少女，莉雅丝·吉蒙里学姊救了这样的我。自称是恶魔的她，告诉我一个冲击的事实。<br/>\n",
       "「你已经转生变成恶魔了。为我工作吧！」<br/>\n",
       "在学姊的胸部和奖励的引诱之下，我身为恶魔仆人的人生就此展开。<br/>\n",
       "纯粹靠着气势与烦恼，校园奇幻战斗恋爱物语第一集！</p>\n",
       "</div>\n",
       "<div class=\"btn-group\">\n",
       "<a class=\"btn read-btn\" href=\"/novel/1/catalog\">开始阅读</a>\n",
       "<a class=\"btnlink mbs btn store-btn\" href=\"javascript:;\" id=\"a_addbookcase\" onclick=\"Ajax.Tip('https://www.linovelib.com/modules/article/addbookcase.php?bid=1', {method: 'POST'});\">加入书架</a>\n",
       "<div class=\"fr link-group\">\n",
       "<a class=\"all-catalog\" href=\"/txtfull/1.html\"><em></em>TXT 全文下载</a>\n",
       "<a class=\"vote btnlink mbs\" href=\"javascript:;\" id=\"a_uservote\" onclick=\"Ajax.Tip('https://www.linovelib.com/modules/article/uservote.php?id=1', {method: 'POST'});\"><em></em>推荐本书</a>\n",
       "<a class=\"errorlink orderlink\" href=\"/report.php\" rel=\"nofollow\"><em></em>留言反馈</a>\n",
       "</div>\n",
       "</div>\n",
       "</div>\n",
       "</div>\n",
       "<div class=\"book-new-chapter\">\n",
       "<h4>最新章节</h4>\n",
       "<div class=\"tit fl\"><a href=\"/novel/1/138790.html\" target=\"_blank\">后记</a><div class=\"time\">2020-11-08 17:30</div></div>\n",
       "<div class=\"tit fr\"><a href=\"/novel/1/121709.html\" target=\"_blank\">Infinity Underwear.2</a><div class=\"time\">2020-11-08 17:29</div></div>\n",
       "<div class=\"tit fl\"><a href=\"/novel/1/121708.html\" target=\"_blank\">Life. ∞＜Infinity＞ 我家龙神大冒险</a><div class=\"time\">2020-11-08 17:29</div></div>\n",
       "<div class=\"tit fr\"><a href=\"/novel/1/121707.html\" target=\"_blank\">Infinity Underwear.1</a><div class=\"time\">2020-11-08 17:29</div></div>\n",
       "<div class=\"tit fl\"><a href=\"/novel/1/121706.html\" target=\"_blank\">Life.7 超级英雄的考验</a><div class=\"time\">2020-11-08 17:28</div></div>\n",
       "<div class=\"tit fr\"><a href=\"/novel/1/121705.html\" target=\"_blank\">Restaurant.</a><div class=\"time\">2020-11-08 17:28</div></div>\n",
       "<div class=\"tit fl\"><a href=\"/novel/1/121704.html\" target=\"_blank\">Life.6 黑历史的白龙皇</a><div class=\"time\">2020-11-08 17:28</div></div>\n",
       "<div class=\"tit fr\"><a href=\"/novel/1/121703.html\" target=\"_blank\">Kimono Girl?</a><div class=\"time\">2020-11-08 17:27</div></div>\n",
       "<div class=\"tit fl\"><a href=\"/novel/1/121702.html\" target=\"_blank\">Life.5 公主们的IKEBANA</a><div class=\"time\">2020-11-08 17:27</div></div>\n",
       "<div class=\"tit fr\"><a href=\"/novel/1/121701.html\" target=\"_blank\">Salamander Tomita.</a><div class=\"time\">2020-11-08 17:27</div></div>\n",
       "<div class=\"tit fl\"><a href=\"/novel/1/121700.html\" target=\"_blank\">Life.4 一路向西！</a><div class=\"time\">2020-11-08 17:27</div></div>\n",
       "<div class=\"tit fr\"><a href=\"/novel/1/121699.html\" target=\"_blank\">Life.3 英才教育过夜趴</a><div class=\"time\">2020-11-08 17:26</div></div>\n",
       "<div class=\"tit fl\"><a href=\"/novel/1/121698.html\" target=\"_blank\">Collbrand.</a><div class=\"time\">2020-11-08 17:26</div></div>\n",
       "<div class=\"tit fr\"><a href=\"/novel/1/121697.html\" target=\"_blank\">Life.2 潘德拉冈家的女仆</a><div class=\"time\">2020-11-08 17:26</div></div>\n",
       "</div>\n",
       "</div>\n",
       "<div class=\"book-side fr\">\n",
       "<div class=\"book-author\">\n",
       "<div class=\"au-head\">\n",
       "<a href=\"/authorarticle/石踏一荣.html\" target=\"_blank\"><img alt=\"石踏一荣\" height=\"60\" src=\"https://www.linovelib.com/images/noauthor.jpg\" width=\"60\"/></a>\n",
       "<em>轻小说作家</em>\n",
       "</div>\n",
       "<div class=\"au-name\"><a href=\"/authorarticle/石踏一荣.html\">石踏一荣</a></div>\n",
       "<div class=\"au-words\">\n",
       "<span>全文字数<i>419.1万</i></span>\n",
       "<span>章 节 数<i>445</i></span>\n",
       "<span>收 藏 数<i>6675</i></span>\n",
       "</div>\n",
       "<div class=\"au-words\">\n",
       "<span>总点击数<i>106211</i></span>\n",
       "<span>本月点击<i>3764</i></span>\n",
       "<span>本周点击<i>2172</i></span>\n",
       "</div>\n",
       "<div class=\"au-says\">\n",
       "<h4>作品信息</h4>\n",
       "<div class=\"con empty\">《恶魔高校DxD》是作者「石踏一荣」精心创作的奇幻冒险后宫轻小说作品</div>\n",
       "</div>\n",
       "</div>\n",
       "<div class=\"app-in clearfix\"><a href=\"https://cdn.a.ln.yodu.app/\">\n",
       "<div class=\"ewm\"><img alt=\"轻小说文库手机客户端下载\" height=\"80\" src=\"/images/ln_book.png\" width=\"80\"/></div>\n",
       "<div class=\"txt\">\n",
       "<h3>手机看轻小说</h3>\n",
       "<p>更便捷的阅读</p>\n",
       "</div></a>\n",
       "</div>\n",
       "<div class=\"h40-blank\"></div>\n",
       "<div class=\"tab-lists\">\n",
       "<div class=\"top-title clearfix\">\n",
       "<div class=\"title fl\">点击榜</div>\n",
       "<div class=\"more fr\">\n",
       "<a class=\"more-link\" href=\"/top/allvisit/1.html\" target=\"_blank\">更多<em></em></a>\n",
       "</div>\n",
       "</div>\n",
       "<div class=\"lists\">\n",
       "<ul id=\"monthTicketRankList\">\n",
       "<li class=\"list-b\"><div class=\"imgbox fl\"><a href=\"/novel/2547.html\" target=\"_blank\" title=\"关于邻家的天使大人不知不觉把我惯成了废人这档子事\"><img alt=\"关于邻家的天使大人不知不觉把我惯成了废人这档子事\" data-original=\"https://www.linovelib.com/files/article/image/2/2547/2547s.jpg\" src=\"https://www.linovelib.com/themes/zhpc/images/book-cover-no.svg\"/></a></div><em class=\"top1 list_icon\"></em><a class=\"title\" href=\"/novel/2547.html\" target=\"_blank\" title=\"关于邻家的天使大人不知不觉把我惯成了废人这档子事\">关于邻家的天使大人不知不觉把我惯成了废人这档子事</a><span class=\"author\" title=\"\">佐伯さん</span><span>415177人已阅读</span> </li>\n",
       "<li><span>167741</span><em class=\"top2 list_icon\">2</em><a href=\"/novel/2428.html\" target=\"_blank\" title=\"刮掉胡子的我与捡到的女高中生\">刮掉胡子的我与捡到的女高中生</a></li>\n",
       "<li><span>926922</span><em class=\"top3 list_icon\">3</em><a href=\"/novel/2321.html\" target=\"_blank\" title=\"转生成蜘蛛又怎样！\">转生成蜘蛛又怎样！</a></li>\n",
       "<li><span>23067</span><em class=\"top4 list_icon\">4</em><a href=\"/novel/2939.html\" target=\"_blank\" title=\"邻座的艾琳同学偶尔会用俄语悄悄撒娇\">邻座的艾琳同学偶尔会用俄语悄悄撒娇</a></li>\n",
       "<li><span>1135436</span><em class=\"top5 list_icon\">5</em><a href=\"/novel/2013.html\" target=\"_blank\" title=\"无职转生～到了异世界就拿出真本事～\">无职转生～到了异世界就拿出真本事～</a></li>\n",
       "<li><span>876429</span><em class=\"top6 list_icon\">6</em><a href=\"/novel/8.html\" target=\"_blank\" title=\"欢迎来到实力至上主义的教室\">欢迎来到实力至上主义的教室</a></li>\n",
       "<li><span>564424</span><em class=\"top7 list_icon\">7</em><a href=\"/novel/6.html\" target=\"_blank\" title=\"关于我转生变成史莱姆这档事\">关于我转生变成史莱姆这档事</a></li>\n",
       "<li><span>99082</span><em class=\"top8 list_icon\">8</em><a href=\"/novel/2890.html\" target=\"_blank\" title=\"义妹生活\">义妹生活</a></li>\n",
       "<li><span>557058</span><em class=\"top9 list_icon\">9</em><a href=\"/novel/2765.html\" target=\"_blank\" title=\"关于邻家的天使大人不知不觉把我惯成了废人这档子事(Web版)\">关于邻家的天使大人不知不觉把我惯成了废人这档子事(Web版)</a></li>\n",
       "<li><span>177117</span><em class=\"top10 list_icon\">10</em><a href=\"/novel/2271.html\" target=\"_blank\" title=\"带着智慧型手机闯荡异世界\">带着智慧型手机闯荡异世界</a></li>\n",
       "</ul>\n",
       "</div>\n",
       "</div>\n",
       "</div>\n",
       "<div class=\"book-main fl\"> <div class=\"h20-blank\"></div>\n",
       "<div class=\"book-recommend\">\n",
       "<h3 class=\"h3-tit\">精彩推荐</h3>\n",
       "<ul class=\"book-recommend-list clearfix Jrecommend listchange1\">\n",
       "<li><a href=\"/novel/1855.html\" target=\"_blank\" title=\"约会大作战\"><div class=\"bImg\"><img alt=\"约会大作战\" data-original=\"https://www.linovelib.com/files/article/image/1/1855/1855s.jpg\" height=\"178\" src=\"https://www.linovelib.com/themes/zhpc/images/book-cover-no.svg\" width=\"135\"/></div><span>约会大作战</span></a></li>\n",
       "<li><a href=\"/novel/2117.html\" target=\"_blank\" title=\"不正经的魔术讲师与禁忌教典\"><div class=\"bImg\"><img alt=\"不正经的魔术讲师与禁忌教典\" data-original=\"https://www.linovelib.com/files/article/image/2/2117/2117s.jpg\" height=\"178\" src=\"https://www.linovelib.com/themes/zhpc/images/book-cover-no.svg\" width=\"135\"/></div><span>不正经的魔术讲师与禁忌教典</span></a></li>\n",
       "<li><a href=\"/novel/69.html\" target=\"_blank\" title=\"刺客守则\"><div class=\"bImg\"><img alt=\"刺客守则\" data-original=\"https://www.linovelib.com/files/article/image/0/69/69s.jpg\" height=\"178\" src=\"https://www.linovelib.com/themes/zhpc/images/book-cover-no.svg\" width=\"135\"/></div><span>刺客守则</span></a></li>\n",
       "<li><a href=\"/novel/39.html\" target=\"_blank\" title=\"爆肝工程师的异世界狂想曲\"><div class=\"bImg\"><img alt=\"爆肝工程师的异世界狂想曲\" data-original=\"https://www.linovelib.com/files/article/image/0/39/39s.jpg\" height=\"178\" src=\"https://www.linovelib.com/themes/zhpc/images/book-cover-no.svg\" width=\"135\"/></div><span>爆肝工程师的异世界狂想曲</span></a></li>\n",
       "<li><a href=\"/novel/2380.html\" target=\"_blank\" title=\"这是你与我的最后战场，或是开创世界的圣战\"><div class=\"bImg\"><img alt=\"这是你与我的最后战场，或是开创世界的圣战\" data-original=\"https://www.linovelib.com/files/article/image/2/2380/2380s.jpg\" height=\"178\" src=\"https://www.linovelib.com/themes/zhpc/images/book-cover-no.svg\" width=\"135\"/></div><span>这是你与我的最后战场，或是开创世界的圣战</span></a></li>\n",
       "<li><a href=\"/novel/1.html\" target=\"_blank\" title=\"恶魔高校DxD\"><div class=\"bImg\"><img alt=\"恶魔高校DxD\" data-original=\"https://www.linovelib.com/files/article/image/0/1/1s.jpg\" height=\"178\" src=\"https://www.linovelib.com/themes/zhpc/images/book-cover-no.svg\" width=\"135\"/></div><span>恶魔高校DxD</span></a></li>\n",
       "</ul>\n",
       "</div>\n",
       "</div>\n",
       "</div>\n",
       "</div>\n",
       "<script src=\"https://www.linovelib.com/themes/zhpc/js/core.js\" type=\"text/javascript\"></script>\n",
       "<script>readbook('1');</script><div class=\"footer\"><div class=\"copyright\"><div class=\"links\"><a href=\"https://www.linovelib.com/page.php?bid=11\" target=\"_blank\">关于我们</a> | <a href=\"https://www.linovelib.com/page.php?bid=15\" target=\"_blank\">作家福利</a> | <a href=\"https://www.linovelib.com/page.php?bid=14\" target=\"_blank\">法律声明</a> | <a href=\"https://www.linovelib.com/page.php?bid=13\" target=\"_blank\">帮助中心</a> | <a href=\"https://www.linovelib.com/page.php?bid=12\" target=\"_blank\">联系我们</a> | <a id=\"GB_BIG\">繁體化</a></div><p>轻小说文库所有内容均收集自其他网站，本站不参与组织扫图、翻译、录入等工作<br/>网站仅为写作爱好者及日语翻译学习交流提供试阅，如果你喜欢该作品，请联系相关出版机构购买正版<br/>本站提供的内容版权属于作者，如果无意中侵犯了您的权利，请与我们联系(<a class=\"__cf_email__\" data-cfemail=\"7e12171011081b12171c3e19131f1712501d1113\" href=\"/cdn-cgi/l/email-protection\">[email protected]</a>)，将在第一时间做出回应</p><p>Copyright © 哔哩轻小说 All Rights Reserved</p><p>2021-04-09 19:26:16, Processed in 0.007045 second(s).</p></div></div><script data-cfasync=\"false\" src=\"/cdn-cgi/scripts/5c5dd728/cloudflare-static/email-decode.min.js\"></script><script src=\"/scripts/GB_BIG5.js\" type=\"text/javascript\"></script><script type=\"text/javascript\">var defaultEncoding=2;var translateDelay=0;var cookieDomain=\"linovelib.com\";var msgToTraditionalChinese=\"繁體化\";var msgToSimplifiedChinese=\"简体化\";var translateButtonId=\"GB_BIG\";translateInitilization();</script><script async=\"\" data-main=\"https://www.linovelib.com/themes/zhpc/js/map.min\" defer=\"\" src=\"https://www.linovelib.com/themes/zhpc/js/require.min.js\" type=\"text/javascript\"></script><script>var _hmt=_hmt||[];(function(){var hm=document.createElement(\"script\");hm.src=\"https://hm.baidu.com/hm.js?d29ecd95ff28d58324c09b9dc0bee919\";var s=document.getElementsByTagName(\"script\")[0];s.parentNode.insertBefore(hm,s)})();</script>\n",
       "</body>\n",
       "</html>"
      ]
     },
     "execution_count": 1,
     "metadata": {},
     "output_type": "execute_result"
    }
   ],
   "source": [
    "import requests\n",
    "from bs4 import BeautifulSoup\n",
    "r=requests.get('https://www.linovelib.com/novel/1.html')\n",
    "soup=BeautifulSoup(r.text,'html.parser')\n",
    "soup"
   ]
  },
  {
   "cell_type": "code",
   "execution_count": 2,
   "metadata": {},
   "outputs": [
    {
     "data": {
      "text/plain": [
       "'恶魔高校DxD'"
      ]
     },
     "execution_count": 2,
     "metadata": {},
     "output_type": "execute_result"
    }
   ],
   "source": [
    "soup.find(attrs={'property':'og:novel:book_name'})['content']"
   ]
  },
  {
   "cell_type": "code",
   "execution_count": 3,
   "metadata": {},
   "outputs": [
    {
     "data": {
      "text/plain": [
       "'奇幻 冒险 后宫 '"
      ]
     },
     "execution_count": 3,
     "metadata": {},
     "output_type": "execute_result"
    }
   ],
   "source": [
    "soup.find(attrs={'property':'og:novel:tags'})['content']"
   ]
  },
  {
   "cell_type": "code",
   "execution_count": 4,
   "metadata": {},
   "outputs": [
    {
     "data": {
      "text/plain": [
       "[<p>我，兵藤一诚是个年龄＝没女朋友经历的高二生。这样的我也交到女朋友了！抱歉了朋友，我要先你们一步踏上大人的阶梯！照理来说应该是这样才对，为什么我会被女朋友杀死？<br/>\n",
       " 明明什么甜头都没尝到，这个世界还有天理吗？<br/>\n",
       " 然而全校第一美少女，莉雅丝·吉蒙里学姊救了这样的我。自称是恶魔的她，告诉我一个冲击的事实。<br/>\n",
       " 「你已经转生变成恶魔了。为我工作吧！」<br/>\n",
       " 在学姊的胸部和奖励的引诱之下，我身为恶魔仆人的人生就此展开。<br/>\n",
       " 纯粹靠着气势与烦恼，校园奇幻战斗恋爱物语第一集！</p>,\n",
       " <p>更便捷的阅读</p>,\n",
       " <p>轻小说文库所有内容均收集自其他网站，本站不参与组织扫图、翻译、录入等工作<br/>网站仅为写作爱好者及日语翻译学习交流提供试阅，如果你喜欢该作品，请联系相关出版机构购买正版<br/>本站提供的内容版权属于作者，如果无意中侵犯了您的权利，请与我们联系(<a class=\"__cf_email__\" data-cfemail=\"7e12171011081b12171c3e19131f1712501d1113\" href=\"/cdn-cgi/l/email-protection\">[email protected]</a>)，将在第一时间做出回应</p>,\n",
       " <p>Copyright © 哔哩轻小说 All Rights Reserved</p>,\n",
       " <p>2021-04-09 19:26:16, Processed in 0.007045 second(s).</p>]"
      ]
     },
     "execution_count": 4,
     "metadata": {},
     "output_type": "execute_result"
    }
   ],
   "source": [
    "soup.select('p')"
   ]
  },
  {
   "cell_type": "code",
   "execution_count": 5,
   "metadata": {},
   "outputs": [
    {
     "data": {
      "text/plain": [
       "'我，兵藤一诚是个年龄＝没女朋友经历的高二生。这样的我也交到女朋友了！抱歉了朋友，我要先你们一步踏上大人的阶梯！照理来说应该是这样才对，为什么我会被女朋友杀死？明明什么甜头都没尝到，这个世界还有天理吗？然而全校第一美少女，莉雅丝·吉蒙里学姊救了这样的我。自称是恶魔的她，告诉我一个冲击的事实。「你已经转生变成恶魔了。为我工作吧！」在学姊的胸部和奖励的引诱之下，我身为恶魔仆人的人生就此展开。纯粹靠着气势与烦恼，校园奇幻战斗恋爱物语第一集！'"
      ]
     },
     "execution_count": 5,
     "metadata": {},
     "output_type": "execute_result"
    }
   ],
   "source": [
    "soup.select('p')[0].text.replace('\\n','')"
   ]
  },
  {
   "cell_type": "code",
   "execution_count": 16,
   "metadata": {},
   "outputs": [],
   "source": [
    "with open('data/meta_data.tsv','w',encoding='utf-8') as f:\n",
    "    f.write('id\\ttitle\\tabstract\\tlabels\\n')\n",
    "    for i in range(1,2940):\n",
    "        r=requests.get('https://www.linovelib.com/novel/'+str(i)+'.html')\n",
    "        soup=BeautifulSoup(r.text,'html.parser')\n",
    "        title=soup.find(attrs={'property':'og:novel:book_name'})['content']\n",
    "        abstract=soup.select('p')[0].text.replace('\\n','')\n",
    "        labels=soup.find(attrs={'property':'og:novel:tags'})['content']\n",
    "        f.write(str(i)+'\\t'+title+'\\t'+abstract+'\\t'+labels+'\\n')"
   ]
  }
 ],
 "metadata": {
  "kernelspec": {
   "display_name": "Python 3",
   "language": "python",
   "name": "python3"
  },
  "language_info": {
   "codemirror_mode": {
    "name": "ipython",
    "version": 3
   },
   "file_extension": ".py",
   "mimetype": "text/x-python",
   "name": "python",
   "nbconvert_exporter": "python",
   "pygments_lexer": "ipython3",
   "version": "3.8.3"
  }
 },
 "nbformat": 4,
 "nbformat_minor": 4
}
